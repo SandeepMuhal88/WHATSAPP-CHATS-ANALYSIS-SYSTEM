{
 "cells": [
  {
   "cell_type": "markdown",
   "id": "cc2b7912",
   "metadata": {},
   "source": [
    "## THE PROJECT"
   ]
  },
  {
   "cell_type": "markdown",
   "id": "c937bcb0",
   "metadata": {},
   "source": [
    "#### Preprocessing"
   ]
  },
  {
   "cell_type": "code",
   "execution_count": 1,
   "id": "76570f7f",
   "metadata": {},
   "outputs": [],
   "source": [
    "import re \n",
    "import pandas as pd\n",
    "\n"
   ]
  },
  {
   "cell_type": "code",
   "execution_count": 3,
   "id": "cdd0f43f",
   "metadata": {},
   "outputs": [],
   "source": [
    "with open(\"WhatsApp Chat with Unofficial 2022 -26 🧑🏻‍🎓CSCYAIDS.txt\", \"r\", encoding=\"utf-8\") as f:\n",
    "    data = f.read()"
   ]
  },
  {
   "cell_type": "code",
   "execution_count": 6,
   "id": "b1022c5e",
   "metadata": {},
   "outputs": [
    {
     "data": {
      "application/vnd.microsoft.datawrangler.viewer.v0+json": {
       "columns": [
        {
         "name": "index",
         "rawType": "int64",
         "type": "integer"
        },
        {
         "name": "Date",
         "rawType": "object",
         "type": "string"
        },
        {
         "name": "Time",
         "rawType": "object",
         "type": "string"
        },
        {
         "name": "Sender",
         "rawType": "object",
         "type": "string"
        },
        {
         "name": "Message",
         "rawType": "object",
         "type": "string"
        }
       ],
       "ref": "5ae5fef7-1f68-4ee6-8e05-0bf206ba8334",
       "rows": [
        [
         "0",
         "1/18/24",
         "5:36 PM",
         "Abishek Aachary",
         "Software 2,4 nd 5"
        ],
        [
         "1",
         "1/18/24",
         "7:25 PM",
         "Jai Prakash Sharma",
         "Linux me to 2,3,4 batayi thi na"
        ],
        [
         "2",
         "1/18/24",
         "7:28 PM",
         "Abishek Aachary",
         "Hn"
        ],
        [
         "3",
         "1/19/24",
         "1:31 PM",
         "❤️‍🔥 निखिल चौधरी 🫶 बताओ",
         "Anyone have practical file of (oops,DE, Linux and DSA) please send kar de 😊😊😊"
        ],
        [
         "4",
         "1/19/24",
         "1:33 PM",
         "Abishek Aachary",
         "Waiting for this message"
        ]
       ],
       "shape": {
        "columns": 4,
        "rows": 5
       }
      },
      "text/html": [
       "<div>\n",
       "<style scoped>\n",
       "    .dataframe tbody tr th:only-of-type {\n",
       "        vertical-align: middle;\n",
       "    }\n",
       "\n",
       "    .dataframe tbody tr th {\n",
       "        vertical-align: top;\n",
       "    }\n",
       "\n",
       "    .dataframe thead th {\n",
       "        text-align: right;\n",
       "    }\n",
       "</style>\n",
       "<table border=\"1\" class=\"dataframe\">\n",
       "  <thead>\n",
       "    <tr style=\"text-align: right;\">\n",
       "      <th></th>\n",
       "      <th>Date</th>\n",
       "      <th>Time</th>\n",
       "      <th>Sender</th>\n",
       "      <th>Message</th>\n",
       "    </tr>\n",
       "  </thead>\n",
       "  <tbody>\n",
       "    <tr>\n",
       "      <th>0</th>\n",
       "      <td>1/18/24</td>\n",
       "      <td>5:36 PM</td>\n",
       "      <td>Abishek Aachary</td>\n",
       "      <td>Software 2,4 nd 5</td>\n",
       "    </tr>\n",
       "    <tr>\n",
       "      <th>1</th>\n",
       "      <td>1/18/24</td>\n",
       "      <td>7:25 PM</td>\n",
       "      <td>Jai Prakash Sharma</td>\n",
       "      <td>Linux me to 2,3,4 batayi thi na</td>\n",
       "    </tr>\n",
       "    <tr>\n",
       "      <th>2</th>\n",
       "      <td>1/18/24</td>\n",
       "      <td>7:28 PM</td>\n",
       "      <td>Abishek Aachary</td>\n",
       "      <td>Hn</td>\n",
       "    </tr>\n",
       "    <tr>\n",
       "      <th>3</th>\n",
       "      <td>1/19/24</td>\n",
       "      <td>1:31 PM</td>\n",
       "      <td>❤️‍🔥 निखिल चौधरी 🫶 बताओ</td>\n",
       "      <td>Anyone have practical file of (oops,DE, Linux ...</td>\n",
       "    </tr>\n",
       "    <tr>\n",
       "      <th>4</th>\n",
       "      <td>1/19/24</td>\n",
       "      <td>1:33 PM</td>\n",
       "      <td>Abishek Aachary</td>\n",
       "      <td>Waiting for this message</td>\n",
       "    </tr>\n",
       "  </tbody>\n",
       "</table>\n",
       "</div>"
      ],
      "text/plain": [
       "      Date     Time                   Sender  \\\n",
       "0  1/18/24  5:36 PM          Abishek Aachary   \n",
       "1  1/18/24  7:25 PM       Jai Prakash Sharma   \n",
       "2  1/18/24  7:28 PM          Abishek Aachary   \n",
       "3  1/19/24  1:31 PM  ❤️‍🔥 निखिल चौधरी 🫶 बताओ   \n",
       "4  1/19/24  1:33 PM          Abishek Aachary   \n",
       "\n",
       "                                             Message  \n",
       "0                                  Software 2,4 nd 5  \n",
       "1                    Linux me to 2,3,4 batayi thi na  \n",
       "2                                                 Hn  \n",
       "3  Anyone have practical file of (oops,DE, Linux ...  \n",
       "4                           Waiting for this message  "
      ]
     },
     "execution_count": 6,
     "metadata": {},
     "output_type": "execute_result"
    }
   ],
   "source": [
    "# Regex pattern to match the date and time at the start of each message\n",
    "pattern=r'(\\d{1,2}/\\d{1,2}/\\d{2,4}),\\s(\\d{1,2}:\\d{2}\\s[APMapm]{2})\\s-\\s([^:]+):\\s(.*)'\n",
    "\n",
    "mathes= re.findall(pattern, data)\n",
    "\n",
    "# Create a DataFrame from the matches\n",
    "df= pd.DataFrame(mathes, columns=[\"Date\", \"Time\", \"Sender\", \"Message\"])\n",
    "\n",
    "df.head()"
   ]
  },
  {
   "cell_type": "code",
   "execution_count": 7,
   "id": "2962f792",
   "metadata": {},
   "outputs": [
    {
     "data": {
      "text/plain": [
       "(3862, 4)"
      ]
     },
     "execution_count": 7,
     "metadata": {},
     "output_type": "execute_result"
    }
   ],
   "source": [
    "df.shape"
   ]
  },
  {
   "cell_type": "code",
   "execution_count": 8,
   "id": "5c275a28",
   "metadata": {},
   "outputs": [
    {
     "name": "stdout",
     "output_type": "stream",
     "text": [
      "<class 'pandas.core.frame.DataFrame'>\n",
      "RangeIndex: 3862 entries, 0 to 3861\n",
      "Data columns (total 4 columns):\n",
      " #   Column   Non-Null Count  Dtype \n",
      "---  ------   --------------  ----- \n",
      " 0   Date     3862 non-null   object\n",
      " 1   Time     3862 non-null   object\n",
      " 2   Sender   3862 non-null   object\n",
      " 3   Message  3862 non-null   object\n",
      "dtypes: object(4)\n",
      "memory usage: 120.8+ KB\n"
     ]
    }
   ],
   "source": [
    "df.info()"
   ]
  },
  {
   "cell_type": "code",
   "execution_count": 10,
   "id": "44d9c83c",
   "metadata": {},
   "outputs": [
    {
     "data": {
      "application/vnd.microsoft.datawrangler.viewer.v0+json": {
       "columns": [
        {
         "name": "index",
         "rawType": "int64",
         "type": "integer"
        },
        {
         "name": "Date",
         "rawType": "object",
         "type": "string"
        },
        {
         "name": "Time",
         "rawType": "object",
         "type": "string"
        },
        {
         "name": "Sender",
         "rawType": "object",
         "type": "string"
        },
        {
         "name": "Message",
         "rawType": "object",
         "type": "string"
        },
        {
         "name": "Datetime",
         "rawType": "datetime64[ns]",
         "type": "datetime"
        }
       ],
       "ref": "e3ed2564-1faf-428a-8c4d-d65c8aed96dd",
       "rows": [
        [
         "0",
         "1/18/24",
         "5:36 PM",
         "Abishek Aachary",
         "Software 2,4 nd 5",
         "2024-01-18 17:36:00"
        ],
        [
         "1",
         "1/18/24",
         "7:25 PM",
         "Jai Prakash Sharma",
         "Linux me to 2,3,4 batayi thi na",
         "2024-01-18 19:25:00"
        ],
        [
         "2",
         "1/18/24",
         "7:28 PM",
         "Abishek Aachary",
         "Hn",
         "2024-01-18 19:28:00"
        ],
        [
         "3",
         "1/19/24",
         "1:31 PM",
         "❤️‍🔥 निखिल चौधरी 🫶 बताओ",
         "Anyone have practical file of (oops,DE, Linux and DSA) please send kar de 😊😊😊",
         "2024-01-19 13:31:00"
        ],
        [
         "4",
         "1/19/24",
         "1:33 PM",
         "Abishek Aachary",
         "Waiting for this message",
         "2024-01-19 13:33:00"
        ]
       ],
       "shape": {
        "columns": 5,
        "rows": 5
       }
      },
      "text/html": [
       "<div>\n",
       "<style scoped>\n",
       "    .dataframe tbody tr th:only-of-type {\n",
       "        vertical-align: middle;\n",
       "    }\n",
       "\n",
       "    .dataframe tbody tr th {\n",
       "        vertical-align: top;\n",
       "    }\n",
       "\n",
       "    .dataframe thead th {\n",
       "        text-align: right;\n",
       "    }\n",
       "</style>\n",
       "<table border=\"1\" class=\"dataframe\">\n",
       "  <thead>\n",
       "    <tr style=\"text-align: right;\">\n",
       "      <th></th>\n",
       "      <th>Date</th>\n",
       "      <th>Time</th>\n",
       "      <th>Sender</th>\n",
       "      <th>Message</th>\n",
       "      <th>Datetime</th>\n",
       "    </tr>\n",
       "  </thead>\n",
       "  <tbody>\n",
       "    <tr>\n",
       "      <th>0</th>\n",
       "      <td>1/18/24</td>\n",
       "      <td>5:36 PM</td>\n",
       "      <td>Abishek Aachary</td>\n",
       "      <td>Software 2,4 nd 5</td>\n",
       "      <td>2024-01-18 17:36:00</td>\n",
       "    </tr>\n",
       "    <tr>\n",
       "      <th>1</th>\n",
       "      <td>1/18/24</td>\n",
       "      <td>7:25 PM</td>\n",
       "      <td>Jai Prakash Sharma</td>\n",
       "      <td>Linux me to 2,3,4 batayi thi na</td>\n",
       "      <td>2024-01-18 19:25:00</td>\n",
       "    </tr>\n",
       "    <tr>\n",
       "      <th>2</th>\n",
       "      <td>1/18/24</td>\n",
       "      <td>7:28 PM</td>\n",
       "      <td>Abishek Aachary</td>\n",
       "      <td>Hn</td>\n",
       "      <td>2024-01-18 19:28:00</td>\n",
       "    </tr>\n",
       "    <tr>\n",
       "      <th>3</th>\n",
       "      <td>1/19/24</td>\n",
       "      <td>1:31 PM</td>\n",
       "      <td>❤️‍🔥 निखिल चौधरी 🫶 बताओ</td>\n",
       "      <td>Anyone have practical file of (oops,DE, Linux ...</td>\n",
       "      <td>2024-01-19 13:31:00</td>\n",
       "    </tr>\n",
       "    <tr>\n",
       "      <th>4</th>\n",
       "      <td>1/19/24</td>\n",
       "      <td>1:33 PM</td>\n",
       "      <td>Abishek Aachary</td>\n",
       "      <td>Waiting for this message</td>\n",
       "      <td>2024-01-19 13:33:00</td>\n",
       "    </tr>\n",
       "  </tbody>\n",
       "</table>\n",
       "</div>"
      ],
      "text/plain": [
       "      Date     Time                   Sender  \\\n",
       "0  1/18/24  5:36 PM          Abishek Aachary   \n",
       "1  1/18/24  7:25 PM       Jai Prakash Sharma   \n",
       "2  1/18/24  7:28 PM          Abishek Aachary   \n",
       "3  1/19/24  1:31 PM  ❤️‍🔥 निखिल चौधरी 🫶 बताओ   \n",
       "4  1/19/24  1:33 PM          Abishek Aachary   \n",
       "\n",
       "                                             Message            Datetime  \n",
       "0                                  Software 2,4 nd 5 2024-01-18 17:36:00  \n",
       "1                    Linux me to 2,3,4 batayi thi na 2024-01-18 19:25:00  \n",
       "2                                                 Hn 2024-01-18 19:28:00  \n",
       "3  Anyone have practical file of (oops,DE, Linux ... 2024-01-19 13:31:00  \n",
       "4                           Waiting for this message 2024-01-19 13:33:00  "
      ]
     },
     "execution_count": 10,
     "metadata": {},
     "output_type": "execute_result"
    }
   ],
   "source": [
    "df[\"Datetime\"] = pd.to_datetime(df[\"Date\"] + \" \" + df[\"Time\"], format=\"%m/%d/%y %I:%M %p\", errors='coerce')\n",
    "df.to_csv(\"whatsapp_chat.csv\", index=False)\n",
    "\n",
    "df.head()"
   ]
  },
  {
   "cell_type": "code",
   "execution_count": 13,
   "id": "beaef8c6",
   "metadata": {},
   "outputs": [],
   "source": [
    "df['year']=df['Datetime'].dt.year"
   ]
  },
  {
   "cell_type": "code",
   "execution_count": 14,
   "id": "a8fb9ee6",
   "metadata": {},
   "outputs": [
    {
     "data": {
      "application/vnd.microsoft.datawrangler.viewer.v0+json": {
       "columns": [
        {
         "name": "index",
         "rawType": "int64",
         "type": "integer"
        },
        {
         "name": "Date",
         "rawType": "object",
         "type": "string"
        },
        {
         "name": "Time",
         "rawType": "object",
         "type": "string"
        },
        {
         "name": "Sender",
         "rawType": "object",
         "type": "string"
        },
        {
         "name": "Message",
         "rawType": "object",
         "type": "string"
        },
        {
         "name": "Datetime",
         "rawType": "datetime64[ns]",
         "type": "datetime"
        },
        {
         "name": "year",
         "rawType": "int32",
         "type": "integer"
        }
       ],
       "ref": "34a3a0ba-6048-4342-a47a-484b5022fe27",
       "rows": [
        [
         "0",
         "1/18/24",
         "5:36 PM",
         "Abishek Aachary",
         "Software 2,4 nd 5",
         "2024-01-18 17:36:00",
         "2024"
        ],
        [
         "1",
         "1/18/24",
         "7:25 PM",
         "Jai Prakash Sharma",
         "Linux me to 2,3,4 batayi thi na",
         "2024-01-18 19:25:00",
         "2024"
        ],
        [
         "2",
         "1/18/24",
         "7:28 PM",
         "Abishek Aachary",
         "Hn",
         "2024-01-18 19:28:00",
         "2024"
        ],
        [
         "3",
         "1/19/24",
         "1:31 PM",
         "❤️‍🔥 निखिल चौधरी 🫶 बताओ",
         "Anyone have practical file of (oops,DE, Linux and DSA) please send kar de 😊😊😊",
         "2024-01-19 13:31:00",
         "2024"
        ],
        [
         "4",
         "1/19/24",
         "1:33 PM",
         "Abishek Aachary",
         "Waiting for this message",
         "2024-01-19 13:33:00",
         "2024"
        ]
       ],
       "shape": {
        "columns": 6,
        "rows": 5
       }
      },
      "text/html": [
       "<div>\n",
       "<style scoped>\n",
       "    .dataframe tbody tr th:only-of-type {\n",
       "        vertical-align: middle;\n",
       "    }\n",
       "\n",
       "    .dataframe tbody tr th {\n",
       "        vertical-align: top;\n",
       "    }\n",
       "\n",
       "    .dataframe thead th {\n",
       "        text-align: right;\n",
       "    }\n",
       "</style>\n",
       "<table border=\"1\" class=\"dataframe\">\n",
       "  <thead>\n",
       "    <tr style=\"text-align: right;\">\n",
       "      <th></th>\n",
       "      <th>Date</th>\n",
       "      <th>Time</th>\n",
       "      <th>Sender</th>\n",
       "      <th>Message</th>\n",
       "      <th>Datetime</th>\n",
       "      <th>year</th>\n",
       "    </tr>\n",
       "  </thead>\n",
       "  <tbody>\n",
       "    <tr>\n",
       "      <th>0</th>\n",
       "      <td>1/18/24</td>\n",
       "      <td>5:36 PM</td>\n",
       "      <td>Abishek Aachary</td>\n",
       "      <td>Software 2,4 nd 5</td>\n",
       "      <td>2024-01-18 17:36:00</td>\n",
       "      <td>2024</td>\n",
       "    </tr>\n",
       "    <tr>\n",
       "      <th>1</th>\n",
       "      <td>1/18/24</td>\n",
       "      <td>7:25 PM</td>\n",
       "      <td>Jai Prakash Sharma</td>\n",
       "      <td>Linux me to 2,3,4 batayi thi na</td>\n",
       "      <td>2024-01-18 19:25:00</td>\n",
       "      <td>2024</td>\n",
       "    </tr>\n",
       "    <tr>\n",
       "      <th>2</th>\n",
       "      <td>1/18/24</td>\n",
       "      <td>7:28 PM</td>\n",
       "      <td>Abishek Aachary</td>\n",
       "      <td>Hn</td>\n",
       "      <td>2024-01-18 19:28:00</td>\n",
       "      <td>2024</td>\n",
       "    </tr>\n",
       "    <tr>\n",
       "      <th>3</th>\n",
       "      <td>1/19/24</td>\n",
       "      <td>1:31 PM</td>\n",
       "      <td>❤️‍🔥 निखिल चौधरी 🫶 बताओ</td>\n",
       "      <td>Anyone have practical file of (oops,DE, Linux ...</td>\n",
       "      <td>2024-01-19 13:31:00</td>\n",
       "      <td>2024</td>\n",
       "    </tr>\n",
       "    <tr>\n",
       "      <th>4</th>\n",
       "      <td>1/19/24</td>\n",
       "      <td>1:33 PM</td>\n",
       "      <td>Abishek Aachary</td>\n",
       "      <td>Waiting for this message</td>\n",
       "      <td>2024-01-19 13:33:00</td>\n",
       "      <td>2024</td>\n",
       "    </tr>\n",
       "  </tbody>\n",
       "</table>\n",
       "</div>"
      ],
      "text/plain": [
       "      Date     Time                   Sender  \\\n",
       "0  1/18/24  5:36 PM          Abishek Aachary   \n",
       "1  1/18/24  7:25 PM       Jai Prakash Sharma   \n",
       "2  1/18/24  7:28 PM          Abishek Aachary   \n",
       "3  1/19/24  1:31 PM  ❤️‍🔥 निखिल चौधरी 🫶 बताओ   \n",
       "4  1/19/24  1:33 PM          Abishek Aachary   \n",
       "\n",
       "                                             Message            Datetime  year  \n",
       "0                                  Software 2,4 nd 5 2024-01-18 17:36:00  2024  \n",
       "1                    Linux me to 2,3,4 batayi thi na 2024-01-18 19:25:00  2024  \n",
       "2                                                 Hn 2024-01-18 19:28:00  2024  \n",
       "3  Anyone have practical file of (oops,DE, Linux ... 2024-01-19 13:31:00  2024  \n",
       "4                           Waiting for this message 2024-01-19 13:33:00  2024  "
      ]
     },
     "execution_count": 14,
     "metadata": {},
     "output_type": "execute_result"
    }
   ],
   "source": [
    "df.head()"
   ]
  },
  {
   "cell_type": "code",
   "execution_count": 16,
   "id": "70fa31f9",
   "metadata": {},
   "outputs": [
    {
     "data": {
      "application/vnd.microsoft.datawrangler.viewer.v0+json": {
       "columns": [
        {
         "name": "index",
         "rawType": "int64",
         "type": "integer"
        },
        {
         "name": "Datetime",
         "rawType": "object",
         "type": "string"
        }
       ],
       "ref": "6db9f0ae-69f6-4044-b807-ea0b84659b3d",
       "rows": [
        [
         "0",
         "January"
        ],
        [
         "1",
         "January"
        ],
        [
         "2",
         "January"
        ],
        [
         "3",
         "January"
        ],
        [
         "4",
         "January"
        ],
        [
         "5",
         "January"
        ],
        [
         "6",
         "January"
        ],
        [
         "7",
         "January"
        ],
        [
         "8",
         "January"
        ],
        [
         "9",
         "January"
        ],
        [
         "10",
         "January"
        ],
        [
         "11",
         "January"
        ],
        [
         "12",
         "January"
        ],
        [
         "13",
         "January"
        ],
        [
         "14",
         "January"
        ],
        [
         "15",
         "January"
        ],
        [
         "16",
         "January"
        ],
        [
         "17",
         "January"
        ],
        [
         "18",
         "January"
        ],
        [
         "19",
         "January"
        ],
        [
         "20",
         "January"
        ],
        [
         "21",
         "January"
        ],
        [
         "22",
         "January"
        ],
        [
         "23",
         "January"
        ],
        [
         "24",
         "January"
        ],
        [
         "25",
         "January"
        ],
        [
         "26",
         "January"
        ],
        [
         "27",
         "January"
        ],
        [
         "28",
         "January"
        ],
        [
         "29",
         "January"
        ],
        [
         "30",
         "January"
        ],
        [
         "31",
         "January"
        ],
        [
         "32",
         "January"
        ],
        [
         "33",
         "January"
        ],
        [
         "34",
         "January"
        ],
        [
         "35",
         "January"
        ],
        [
         "36",
         "January"
        ],
        [
         "37",
         "January"
        ],
        [
         "38",
         "January"
        ],
        [
         "39",
         "January"
        ],
        [
         "40",
         "January"
        ],
        [
         "41",
         "January"
        ],
        [
         "42",
         "January"
        ],
        [
         "43",
         "January"
        ],
        [
         "44",
         "January"
        ],
        [
         "45",
         "January"
        ],
        [
         "46",
         "January"
        ],
        [
         "47",
         "January"
        ],
        [
         "48",
         "January"
        ],
        [
         "49",
         "January"
        ]
       ],
       "shape": {
        "columns": 1,
        "rows": 3862
       }
      },
      "text/plain": [
       "0       January\n",
       "1       January\n",
       "2       January\n",
       "3       January\n",
       "4       January\n",
       "         ...   \n",
       "3857       June\n",
       "3858       June\n",
       "3859       June\n",
       "3860       June\n",
       "3861       June\n",
       "Name: Datetime, Length: 3862, dtype: object"
      ]
     },
     "execution_count": 16,
     "metadata": {},
     "output_type": "execute_result"
    }
   ],
   "source": [
    "df['Datetime'].dt.month_name()\n"
   ]
  },
  {
   "cell_type": "code",
   "execution_count": 19,
   "id": "944ee5b4",
   "metadata": {},
   "outputs": [
    {
     "data": {
      "application/vnd.microsoft.datawrangler.viewer.v0+json": {
       "columns": [
        {
         "name": "index",
         "rawType": "int64",
         "type": "integer"
        },
        {
         "name": "Date",
         "rawType": "object",
         "type": "string"
        },
        {
         "name": "Time",
         "rawType": "object",
         "type": "string"
        },
        {
         "name": "Sender",
         "rawType": "object",
         "type": "string"
        },
        {
         "name": "Message",
         "rawType": "object",
         "type": "string"
        },
        {
         "name": "Datetime",
         "rawType": "datetime64[ns]",
         "type": "datetime"
        },
        {
         "name": "year",
         "rawType": "int32",
         "type": "integer"
        },
        {
         "name": "Months_name",
         "rawType": "object",
         "type": "string"
        },
        {
         "name": "day",
         "rawType": "int32",
         "type": "integer"
        },
        {
         "name": "hour",
         "rawType": "int32",
         "type": "integer"
        },
        {
         "name": "minute",
         "rawType": "int32",
         "type": "integer"
        }
       ],
       "ref": "21ac05d2-604d-4c90-bccd-b014ee96b09e",
       "rows": [
        [
         "0",
         "1/18/24",
         "5:36 PM",
         "Abishek Aachary",
         "Software 2,4 nd 5",
         "2024-01-18 17:36:00",
         "2024",
         "January",
         "18",
         "17",
         "36"
        ],
        [
         "1",
         "1/18/24",
         "7:25 PM",
         "Jai Prakash Sharma",
         "Linux me to 2,3,4 batayi thi na",
         "2024-01-18 19:25:00",
         "2024",
         "January",
         "18",
         "19",
         "25"
        ],
        [
         "2",
         "1/18/24",
         "7:28 PM",
         "Abishek Aachary",
         "Hn",
         "2024-01-18 19:28:00",
         "2024",
         "January",
         "18",
         "19",
         "28"
        ],
        [
         "3",
         "1/19/24",
         "1:31 PM",
         "❤️‍🔥 निखिल चौधरी 🫶 बताओ",
         "Anyone have practical file of (oops,DE, Linux and DSA) please send kar de 😊😊😊",
         "2024-01-19 13:31:00",
         "2024",
         "January",
         "19",
         "13",
         "31"
        ],
        [
         "4",
         "1/19/24",
         "1:33 PM",
         "Abishek Aachary",
         "Waiting for this message",
         "2024-01-19 13:33:00",
         "2024",
         "January",
         "19",
         "13",
         "33"
        ]
       ],
       "shape": {
        "columns": 10,
        "rows": 5
       }
      },
      "text/html": [
       "<div>\n",
       "<style scoped>\n",
       "    .dataframe tbody tr th:only-of-type {\n",
       "        vertical-align: middle;\n",
       "    }\n",
       "\n",
       "    .dataframe tbody tr th {\n",
       "        vertical-align: top;\n",
       "    }\n",
       "\n",
       "    .dataframe thead th {\n",
       "        text-align: right;\n",
       "    }\n",
       "</style>\n",
       "<table border=\"1\" class=\"dataframe\">\n",
       "  <thead>\n",
       "    <tr style=\"text-align: right;\">\n",
       "      <th></th>\n",
       "      <th>Date</th>\n",
       "      <th>Time</th>\n",
       "      <th>Sender</th>\n",
       "      <th>Message</th>\n",
       "      <th>Datetime</th>\n",
       "      <th>year</th>\n",
       "      <th>Months_name</th>\n",
       "      <th>day</th>\n",
       "      <th>hour</th>\n",
       "      <th>minute</th>\n",
       "    </tr>\n",
       "  </thead>\n",
       "  <tbody>\n",
       "    <tr>\n",
       "      <th>0</th>\n",
       "      <td>1/18/24</td>\n",
       "      <td>5:36 PM</td>\n",
       "      <td>Abishek Aachary</td>\n",
       "      <td>Software 2,4 nd 5</td>\n",
       "      <td>2024-01-18 17:36:00</td>\n",
       "      <td>2024</td>\n",
       "      <td>January</td>\n",
       "      <td>18</td>\n",
       "      <td>17</td>\n",
       "      <td>36</td>\n",
       "    </tr>\n",
       "    <tr>\n",
       "      <th>1</th>\n",
       "      <td>1/18/24</td>\n",
       "      <td>7:25 PM</td>\n",
       "      <td>Jai Prakash Sharma</td>\n",
       "      <td>Linux me to 2,3,4 batayi thi na</td>\n",
       "      <td>2024-01-18 19:25:00</td>\n",
       "      <td>2024</td>\n",
       "      <td>January</td>\n",
       "      <td>18</td>\n",
       "      <td>19</td>\n",
       "      <td>25</td>\n",
       "    </tr>\n",
       "    <tr>\n",
       "      <th>2</th>\n",
       "      <td>1/18/24</td>\n",
       "      <td>7:28 PM</td>\n",
       "      <td>Abishek Aachary</td>\n",
       "      <td>Hn</td>\n",
       "      <td>2024-01-18 19:28:00</td>\n",
       "      <td>2024</td>\n",
       "      <td>January</td>\n",
       "      <td>18</td>\n",
       "      <td>19</td>\n",
       "      <td>28</td>\n",
       "    </tr>\n",
       "    <tr>\n",
       "      <th>3</th>\n",
       "      <td>1/19/24</td>\n",
       "      <td>1:31 PM</td>\n",
       "      <td>❤️‍🔥 निखिल चौधरी 🫶 बताओ</td>\n",
       "      <td>Anyone have practical file of (oops,DE, Linux ...</td>\n",
       "      <td>2024-01-19 13:31:00</td>\n",
       "      <td>2024</td>\n",
       "      <td>January</td>\n",
       "      <td>19</td>\n",
       "      <td>13</td>\n",
       "      <td>31</td>\n",
       "    </tr>\n",
       "    <tr>\n",
       "      <th>4</th>\n",
       "      <td>1/19/24</td>\n",
       "      <td>1:33 PM</td>\n",
       "      <td>Abishek Aachary</td>\n",
       "      <td>Waiting for this message</td>\n",
       "      <td>2024-01-19 13:33:00</td>\n",
       "      <td>2024</td>\n",
       "      <td>January</td>\n",
       "      <td>19</td>\n",
       "      <td>13</td>\n",
       "      <td>33</td>\n",
       "    </tr>\n",
       "  </tbody>\n",
       "</table>\n",
       "</div>"
      ],
      "text/plain": [
       "      Date     Time                   Sender  \\\n",
       "0  1/18/24  5:36 PM          Abishek Aachary   \n",
       "1  1/18/24  7:25 PM       Jai Prakash Sharma   \n",
       "2  1/18/24  7:28 PM          Abishek Aachary   \n",
       "3  1/19/24  1:31 PM  ❤️‍🔥 निखिल चौधरी 🫶 बताओ   \n",
       "4  1/19/24  1:33 PM          Abishek Aachary   \n",
       "\n",
       "                                             Message            Datetime  \\\n",
       "0                                  Software 2,4 nd 5 2024-01-18 17:36:00   \n",
       "1                    Linux me to 2,3,4 batayi thi na 2024-01-18 19:25:00   \n",
       "2                                                 Hn 2024-01-18 19:28:00   \n",
       "3  Anyone have practical file of (oops,DE, Linux ... 2024-01-19 13:31:00   \n",
       "4                           Waiting for this message 2024-01-19 13:33:00   \n",
       "\n",
       "   year Months_name  day  hour  minute  \n",
       "0  2024     January   18    17      36  \n",
       "1  2024     January   18    19      25  \n",
       "2  2024     January   18    19      28  \n",
       "3  2024     January   19    13      31  \n",
       "4  2024     January   19    13      33  "
      ]
     },
     "execution_count": 19,
     "metadata": {},
     "output_type": "execute_result"
    }
   ],
   "source": [
    "df['Months_name']=df['Datetime'].dt.month_name()\n",
    "df['day']=df['Datetime'].dt.day\n",
    "df['hour']=df['Datetime'].dt.hour\n",
    "df['minute']=df['Datetime'].dt.minute\n",
    "df.head()"
   ]
  }
 ],
 "metadata": {
  "kernelspec": {
   "display_name": ".tensorli",
   "language": "python",
   "name": "python3"
  },
  "language_info": {
   "codemirror_mode": {
    "name": "ipython",
    "version": 3
   },
   "file_extension": ".py",
   "mimetype": "text/x-python",
   "name": "python",
   "nbconvert_exporter": "python",
   "pygments_lexer": "ipython3",
   "version": "3.11.0"
  }
 },
 "nbformat": 4,
 "nbformat_minor": 5
}
