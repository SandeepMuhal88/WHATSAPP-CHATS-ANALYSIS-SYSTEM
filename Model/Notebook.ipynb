{
 "cells": [
  {
   "cell_type": "markdown",
   "id": "cc2b7912",
   "metadata": {},
   "source": [
    "## THE PROJECT"
   ]
  },
  {
   "cell_type": "markdown",
   "id": "c937bcb0",
   "metadata": {},
   "source": [
    "#### Preprocessing"
   ]
  },
  {
   "cell_type": "code",
   "execution_count": 1,
   "id": "76570f7f",
   "metadata": {},
   "outputs": [],
   "source": [
    "import re \n",
    "import pandas as pd\n",
    "\n"
   ]
  },
  {
   "cell_type": "code",
   "execution_count": 2,
   "id": "cdd0f43f",
   "metadata": {},
   "outputs": [],
   "source": [
    "with open(\"WhatsApp Chat with Unofficial 2022 -26 🧑🏻‍🎓CSCYAIDS.txt\", \"r\", encoding=\"utf-8\") as f:\n",
    "    data = f.read()"
   ]
  },
  {
   "cell_type": "code",
   "execution_count": 3,
   "id": "b1022c5e",
   "metadata": {},
   "outputs": [
    {
     "data": {
      "application/vnd.microsoft.datawrangler.viewer.v0+json": {
       "columns": [
        {
         "name": "index",
         "rawType": "int64",
         "type": "integer"
        },
        {
         "name": "Date",
         "rawType": "object",
         "type": "string"
        },
        {
         "name": "Time",
         "rawType": "object",
         "type": "string"
        },
        {
         "name": "Sender",
         "rawType": "object",
         "type": "string"
        },
        {
         "name": "Message",
         "rawType": "object",
         "type": "string"
        }
       ],
       "ref": "02be148f-996e-4155-ad15-33cd908637f7",
       "rows": [
        [
         "0",
         "1/18/24",
         "5:36 PM",
         "Abishek Aachary",
         "Software 2,4 nd 5"
        ],
        [
         "1",
         "1/18/24",
         "7:25 PM",
         "Jai Prakash Sharma",
         "Linux me to 2,3,4 batayi thi na"
        ],
        [
         "2",
         "1/18/24",
         "7:28 PM",
         "Abishek Aachary",
         "Hn"
        ],
        [
         "3",
         "1/19/24",
         "1:31 PM",
         "❤️‍🔥 निखिल चौधरी 🫶 बताओ",
         "Anyone have practical file of (oops,DE, Linux and DSA) please send kar de 😊😊😊"
        ],
        [
         "4",
         "1/19/24",
         "1:33 PM",
         "Abishek Aachary",
         "Waiting for this message"
        ]
       ],
       "shape": {
        "columns": 4,
        "rows": 5
       }
      },
      "text/html": [
       "<div>\n",
       "<style scoped>\n",
       "    .dataframe tbody tr th:only-of-type {\n",
       "        vertical-align: middle;\n",
       "    }\n",
       "\n",
       "    .dataframe tbody tr th {\n",
       "        vertical-align: top;\n",
       "    }\n",
       "\n",
       "    .dataframe thead th {\n",
       "        text-align: right;\n",
       "    }\n",
       "</style>\n",
       "<table border=\"1\" class=\"dataframe\">\n",
       "  <thead>\n",
       "    <tr style=\"text-align: right;\">\n",
       "      <th></th>\n",
       "      <th>Date</th>\n",
       "      <th>Time</th>\n",
       "      <th>Sender</th>\n",
       "      <th>Message</th>\n",
       "    </tr>\n",
       "  </thead>\n",
       "  <tbody>\n",
       "    <tr>\n",
       "      <th>0</th>\n",
       "      <td>1/18/24</td>\n",
       "      <td>5:36 PM</td>\n",
       "      <td>Abishek Aachary</td>\n",
       "      <td>Software 2,4 nd 5</td>\n",
       "    </tr>\n",
       "    <tr>\n",
       "      <th>1</th>\n",
       "      <td>1/18/24</td>\n",
       "      <td>7:25 PM</td>\n",
       "      <td>Jai Prakash Sharma</td>\n",
       "      <td>Linux me to 2,3,4 batayi thi na</td>\n",
       "    </tr>\n",
       "    <tr>\n",
       "      <th>2</th>\n",
       "      <td>1/18/24</td>\n",
       "      <td>7:28 PM</td>\n",
       "      <td>Abishek Aachary</td>\n",
       "      <td>Hn</td>\n",
       "    </tr>\n",
       "    <tr>\n",
       "      <th>3</th>\n",
       "      <td>1/19/24</td>\n",
       "      <td>1:31 PM</td>\n",
       "      <td>❤️‍🔥 निखिल चौधरी 🫶 बताओ</td>\n",
       "      <td>Anyone have practical file of (oops,DE, Linux ...</td>\n",
       "    </tr>\n",
       "    <tr>\n",
       "      <th>4</th>\n",
       "      <td>1/19/24</td>\n",
       "      <td>1:33 PM</td>\n",
       "      <td>Abishek Aachary</td>\n",
       "      <td>Waiting for this message</td>\n",
       "    </tr>\n",
       "  </tbody>\n",
       "</table>\n",
       "</div>"
      ],
      "text/plain": [
       "      Date     Time                   Sender  \\\n",
       "0  1/18/24  5:36 PM          Abishek Aachary   \n",
       "1  1/18/24  7:25 PM       Jai Prakash Sharma   \n",
       "2  1/18/24  7:28 PM          Abishek Aachary   \n",
       "3  1/19/24  1:31 PM  ❤️‍🔥 निखिल चौधरी 🫶 बताओ   \n",
       "4  1/19/24  1:33 PM          Abishek Aachary   \n",
       "\n",
       "                                             Message  \n",
       "0                                  Software 2,4 nd 5  \n",
       "1                    Linux me to 2,3,4 batayi thi na  \n",
       "2                                                 Hn  \n",
       "3  Anyone have practical file of (oops,DE, Linux ...  \n",
       "4                           Waiting for this message  "
      ]
     },
     "execution_count": 3,
     "metadata": {},
     "output_type": "execute_result"
    }
   ],
   "source": [
    "# Regex pattern to match the date and time at the start of each message\n",
    "pattern=r'(\\d{1,2}/\\d{1,2}/\\d{2,4}),\\s(\\d{1,2}:\\d{2}\\s[APMapm]{2})\\s-\\s([^:]+):\\s(.*)'\n",
    "\n",
    "mathes= re.findall(pattern, data)\n",
    "\n",
    "# Create a DataFrame from the matches\n",
    "df= pd.DataFrame(mathes, columns=[\"Date\", \"Time\", \"Sender\", \"Message\"])\n",
    "\n",
    "df.head()"
   ]
  },
  {
   "cell_type": "code",
   "execution_count": 4,
   "id": "2962f792",
   "metadata": {},
   "outputs": [
    {
     "data": {
      "text/plain": [
       "(3862, 4)"
      ]
     },
     "execution_count": 4,
     "metadata": {},
     "output_type": "execute_result"
    }
   ],
   "source": [
    "df.shape"
   ]
  },
  {
   "cell_type": "code",
   "execution_count": 5,
   "id": "5c275a28",
   "metadata": {},
   "outputs": [
    {
     "name": "stdout",
     "output_type": "stream",
     "text": [
      "<class 'pandas.core.frame.DataFrame'>\n",
      "RangeIndex: 3862 entries, 0 to 3861\n",
      "Data columns (total 4 columns):\n",
      " #   Column   Non-Null Count  Dtype \n",
      "---  ------   --------------  ----- \n",
      " 0   Date     3862 non-null   object\n",
      " 1   Time     3862 non-null   object\n",
      " 2   Sender   3862 non-null   object\n",
      " 3   Message  3862 non-null   object\n",
      "dtypes: object(4)\n",
      "memory usage: 120.8+ KB\n"
     ]
    }
   ],
   "source": [
    "df.info()"
   ]
  },
  {
   "cell_type": "code",
   "execution_count": 6,
   "id": "44d9c83c",
   "metadata": {},
   "outputs": [
    {
     "data": {
      "application/vnd.microsoft.datawrangler.viewer.v0+json": {
       "columns": [
        {
         "name": "index",
         "rawType": "int64",
         "type": "integer"
        },
        {
         "name": "Date",
         "rawType": "object",
         "type": "string"
        },
        {
         "name": "Time",
         "rawType": "object",
         "type": "string"
        },
        {
         "name": "Sender",
         "rawType": "object",
         "type": "string"
        },
        {
         "name": "Message",
         "rawType": "object",
         "type": "string"
        },
        {
         "name": "Datetime",
         "rawType": "datetime64[ns]",
         "type": "datetime"
        }
       ],
       "ref": "7be61c62-2a95-4c40-9b7f-a52cf2beae41",
       "rows": [
        [
         "0",
         "1/18/24",
         "5:36 PM",
         "Abishek Aachary",
         "Software 2,4 nd 5",
         "2024-01-18 17:36:00"
        ],
        [
         "1",
         "1/18/24",
         "7:25 PM",
         "Jai Prakash Sharma",
         "Linux me to 2,3,4 batayi thi na",
         "2024-01-18 19:25:00"
        ],
        [
         "2",
         "1/18/24",
         "7:28 PM",
         "Abishek Aachary",
         "Hn",
         "2024-01-18 19:28:00"
        ],
        [
         "3",
         "1/19/24",
         "1:31 PM",
         "❤️‍🔥 निखिल चौधरी 🫶 बताओ",
         "Anyone have practical file of (oops,DE, Linux and DSA) please send kar de 😊😊😊",
         "2024-01-19 13:31:00"
        ],
        [
         "4",
         "1/19/24",
         "1:33 PM",
         "Abishek Aachary",
         "Waiting for this message",
         "2024-01-19 13:33:00"
        ]
       ],
       "shape": {
        "columns": 5,
        "rows": 5
       }
      },
      "text/html": [
       "<div>\n",
       "<style scoped>\n",
       "    .dataframe tbody tr th:only-of-type {\n",
       "        vertical-align: middle;\n",
       "    }\n",
       "\n",
       "    .dataframe tbody tr th {\n",
       "        vertical-align: top;\n",
       "    }\n",
       "\n",
       "    .dataframe thead th {\n",
       "        text-align: right;\n",
       "    }\n",
       "</style>\n",
       "<table border=\"1\" class=\"dataframe\">\n",
       "  <thead>\n",
       "    <tr style=\"text-align: right;\">\n",
       "      <th></th>\n",
       "      <th>Date</th>\n",
       "      <th>Time</th>\n",
       "      <th>Sender</th>\n",
       "      <th>Message</th>\n",
       "      <th>Datetime</th>\n",
       "    </tr>\n",
       "  </thead>\n",
       "  <tbody>\n",
       "    <tr>\n",
       "      <th>0</th>\n",
       "      <td>1/18/24</td>\n",
       "      <td>5:36 PM</td>\n",
       "      <td>Abishek Aachary</td>\n",
       "      <td>Software 2,4 nd 5</td>\n",
       "      <td>2024-01-18 17:36:00</td>\n",
       "    </tr>\n",
       "    <tr>\n",
       "      <th>1</th>\n",
       "      <td>1/18/24</td>\n",
       "      <td>7:25 PM</td>\n",
       "      <td>Jai Prakash Sharma</td>\n",
       "      <td>Linux me to 2,3,4 batayi thi na</td>\n",
       "      <td>2024-01-18 19:25:00</td>\n",
       "    </tr>\n",
       "    <tr>\n",
       "      <th>2</th>\n",
       "      <td>1/18/24</td>\n",
       "      <td>7:28 PM</td>\n",
       "      <td>Abishek Aachary</td>\n",
       "      <td>Hn</td>\n",
       "      <td>2024-01-18 19:28:00</td>\n",
       "    </tr>\n",
       "    <tr>\n",
       "      <th>3</th>\n",
       "      <td>1/19/24</td>\n",
       "      <td>1:31 PM</td>\n",
       "      <td>❤️‍🔥 निखिल चौधरी 🫶 बताओ</td>\n",
       "      <td>Anyone have practical file of (oops,DE, Linux ...</td>\n",
       "      <td>2024-01-19 13:31:00</td>\n",
       "    </tr>\n",
       "    <tr>\n",
       "      <th>4</th>\n",
       "      <td>1/19/24</td>\n",
       "      <td>1:33 PM</td>\n",
       "      <td>Abishek Aachary</td>\n",
       "      <td>Waiting for this message</td>\n",
       "      <td>2024-01-19 13:33:00</td>\n",
       "    </tr>\n",
       "  </tbody>\n",
       "</table>\n",
       "</div>"
      ],
      "text/plain": [
       "      Date     Time                   Sender  \\\n",
       "0  1/18/24  5:36 PM          Abishek Aachary   \n",
       "1  1/18/24  7:25 PM       Jai Prakash Sharma   \n",
       "2  1/18/24  7:28 PM          Abishek Aachary   \n",
       "3  1/19/24  1:31 PM  ❤️‍🔥 निखिल चौधरी 🫶 बताओ   \n",
       "4  1/19/24  1:33 PM          Abishek Aachary   \n",
       "\n",
       "                                             Message            Datetime  \n",
       "0                                  Software 2,4 nd 5 2024-01-18 17:36:00  \n",
       "1                    Linux me to 2,3,4 batayi thi na 2024-01-18 19:25:00  \n",
       "2                                                 Hn 2024-01-18 19:28:00  \n",
       "3  Anyone have practical file of (oops,DE, Linux ... 2024-01-19 13:31:00  \n",
       "4                           Waiting for this message 2024-01-19 13:33:00  "
      ]
     },
     "execution_count": 6,
     "metadata": {},
     "output_type": "execute_result"
    }
   ],
   "source": [
    "df[\"Datetime\"] = pd.to_datetime(df[\"Date\"] + \" \" + df[\"Time\"], format=\"%m/%d/%y %I:%M %p\", errors='coerce')\n",
    "df.to_csv(\"whatsapp_chat.csv\", index=False)\n",
    "\n",
    "df.head()"
   ]
  },
  {
   "cell_type": "code",
   "execution_count": 7,
   "id": "beaef8c6",
   "metadata": {},
   "outputs": [],
   "source": [
    "df['year']=df['Datetime'].dt.year"
   ]
  },
  {
   "cell_type": "code",
   "execution_count": 8,
   "id": "a8fb9ee6",
   "metadata": {},
   "outputs": [
    {
     "data": {
      "application/vnd.microsoft.datawrangler.viewer.v0+json": {
       "columns": [
        {
         "name": "index",
         "rawType": "int64",
         "type": "integer"
        },
        {
         "name": "Date",
         "rawType": "object",
         "type": "string"
        },
        {
         "name": "Time",
         "rawType": "object",
         "type": "string"
        },
        {
         "name": "Sender",
         "rawType": "object",
         "type": "string"
        },
        {
         "name": "Message",
         "rawType": "object",
         "type": "string"
        },
        {
         "name": "Datetime",
         "rawType": "datetime64[ns]",
         "type": "datetime"
        },
        {
         "name": "year",
         "rawType": "int32",
         "type": "integer"
        }
       ],
       "ref": "af3696f9-ad38-4eb9-b980-3437135b8389",
       "rows": [
        [
         "0",
         "1/18/24",
         "5:36 PM",
         "Abishek Aachary",
         "Software 2,4 nd 5",
         "2024-01-18 17:36:00",
         "2024"
        ],
        [
         "1",
         "1/18/24",
         "7:25 PM",
         "Jai Prakash Sharma",
         "Linux me to 2,3,4 batayi thi na",
         "2024-01-18 19:25:00",
         "2024"
        ],
        [
         "2",
         "1/18/24",
         "7:28 PM",
         "Abishek Aachary",
         "Hn",
         "2024-01-18 19:28:00",
         "2024"
        ],
        [
         "3",
         "1/19/24",
         "1:31 PM",
         "❤️‍🔥 निखिल चौधरी 🫶 बताओ",
         "Anyone have practical file of (oops,DE, Linux and DSA) please send kar de 😊😊😊",
         "2024-01-19 13:31:00",
         "2024"
        ],
        [
         "4",
         "1/19/24",
         "1:33 PM",
         "Abishek Aachary",
         "Waiting for this message",
         "2024-01-19 13:33:00",
         "2024"
        ]
       ],
       "shape": {
        "columns": 6,
        "rows": 5
       }
      },
      "text/html": [
       "<div>\n",
       "<style scoped>\n",
       "    .dataframe tbody tr th:only-of-type {\n",
       "        vertical-align: middle;\n",
       "    }\n",
       "\n",
       "    .dataframe tbody tr th {\n",
       "        vertical-align: top;\n",
       "    }\n",
       "\n",
       "    .dataframe thead th {\n",
       "        text-align: right;\n",
       "    }\n",
       "</style>\n",
       "<table border=\"1\" class=\"dataframe\">\n",
       "  <thead>\n",
       "    <tr style=\"text-align: right;\">\n",
       "      <th></th>\n",
       "      <th>Date</th>\n",
       "      <th>Time</th>\n",
       "      <th>Sender</th>\n",
       "      <th>Message</th>\n",
       "      <th>Datetime</th>\n",
       "      <th>year</th>\n",
       "    </tr>\n",
       "  </thead>\n",
       "  <tbody>\n",
       "    <tr>\n",
       "      <th>0</th>\n",
       "      <td>1/18/24</td>\n",
       "      <td>5:36 PM</td>\n",
       "      <td>Abishek Aachary</td>\n",
       "      <td>Software 2,4 nd 5</td>\n",
       "      <td>2024-01-18 17:36:00</td>\n",
       "      <td>2024</td>\n",
       "    </tr>\n",
       "    <tr>\n",
       "      <th>1</th>\n",
       "      <td>1/18/24</td>\n",
       "      <td>7:25 PM</td>\n",
       "      <td>Jai Prakash Sharma</td>\n",
       "      <td>Linux me to 2,3,4 batayi thi na</td>\n",
       "      <td>2024-01-18 19:25:00</td>\n",
       "      <td>2024</td>\n",
       "    </tr>\n",
       "    <tr>\n",
       "      <th>2</th>\n",
       "      <td>1/18/24</td>\n",
       "      <td>7:28 PM</td>\n",
       "      <td>Abishek Aachary</td>\n",
       "      <td>Hn</td>\n",
       "      <td>2024-01-18 19:28:00</td>\n",
       "      <td>2024</td>\n",
       "    </tr>\n",
       "    <tr>\n",
       "      <th>3</th>\n",
       "      <td>1/19/24</td>\n",
       "      <td>1:31 PM</td>\n",
       "      <td>❤️‍🔥 निखिल चौधरी 🫶 बताओ</td>\n",
       "      <td>Anyone have practical file of (oops,DE, Linux ...</td>\n",
       "      <td>2024-01-19 13:31:00</td>\n",
       "      <td>2024</td>\n",
       "    </tr>\n",
       "    <tr>\n",
       "      <th>4</th>\n",
       "      <td>1/19/24</td>\n",
       "      <td>1:33 PM</td>\n",
       "      <td>Abishek Aachary</td>\n",
       "      <td>Waiting for this message</td>\n",
       "      <td>2024-01-19 13:33:00</td>\n",
       "      <td>2024</td>\n",
       "    </tr>\n",
       "  </tbody>\n",
       "</table>\n",
       "</div>"
      ],
      "text/plain": [
       "      Date     Time                   Sender  \\\n",
       "0  1/18/24  5:36 PM          Abishek Aachary   \n",
       "1  1/18/24  7:25 PM       Jai Prakash Sharma   \n",
       "2  1/18/24  7:28 PM          Abishek Aachary   \n",
       "3  1/19/24  1:31 PM  ❤️‍🔥 निखिल चौधरी 🫶 बताओ   \n",
       "4  1/19/24  1:33 PM          Abishek Aachary   \n",
       "\n",
       "                                             Message            Datetime  year  \n",
       "0                                  Software 2,4 nd 5 2024-01-18 17:36:00  2024  \n",
       "1                    Linux me to 2,3,4 batayi thi na 2024-01-18 19:25:00  2024  \n",
       "2                                                 Hn 2024-01-18 19:28:00  2024  \n",
       "3  Anyone have practical file of (oops,DE, Linux ... 2024-01-19 13:31:00  2024  \n",
       "4                           Waiting for this message 2024-01-19 13:33:00  2024  "
      ]
     },
     "execution_count": 8,
     "metadata": {},
     "output_type": "execute_result"
    }
   ],
   "source": [
    "df.head()"
   ]
  },
  {
   "cell_type": "code",
   "execution_count": 9,
   "id": "70fa31f9",
   "metadata": {},
   "outputs": [
    {
     "data": {
      "application/vnd.microsoft.datawrangler.viewer.v0+json": {
       "columns": [
        {
         "name": "index",
         "rawType": "int64",
         "type": "integer"
        },
        {
         "name": "Datetime",
         "rawType": "object",
         "type": "string"
        }
       ],
       "ref": "2e336d62-7219-4a8e-8413-63b483fbb913",
       "rows": [
        [
         "0",
         "January"
        ],
        [
         "1",
         "January"
        ],
        [
         "2",
         "January"
        ],
        [
         "3",
         "January"
        ],
        [
         "4",
         "January"
        ],
        [
         "5",
         "January"
        ],
        [
         "6",
         "January"
        ],
        [
         "7",
         "January"
        ],
        [
         "8",
         "January"
        ],
        [
         "9",
         "January"
        ],
        [
         "10",
         "January"
        ],
        [
         "11",
         "January"
        ],
        [
         "12",
         "January"
        ],
        [
         "13",
         "January"
        ],
        [
         "14",
         "January"
        ],
        [
         "15",
         "January"
        ],
        [
         "16",
         "January"
        ],
        [
         "17",
         "January"
        ],
        [
         "18",
         "January"
        ],
        [
         "19",
         "January"
        ],
        [
         "20",
         "January"
        ],
        [
         "21",
         "January"
        ],
        [
         "22",
         "January"
        ],
        [
         "23",
         "January"
        ],
        [
         "24",
         "January"
        ],
        [
         "25",
         "January"
        ],
        [
         "26",
         "January"
        ],
        [
         "27",
         "January"
        ],
        [
         "28",
         "January"
        ],
        [
         "29",
         "January"
        ],
        [
         "30",
         "January"
        ],
        [
         "31",
         "January"
        ],
        [
         "32",
         "January"
        ],
        [
         "33",
         "January"
        ],
        [
         "34",
         "January"
        ],
        [
         "35",
         "January"
        ],
        [
         "36",
         "January"
        ],
        [
         "37",
         "January"
        ],
        [
         "38",
         "January"
        ],
        [
         "39",
         "January"
        ],
        [
         "40",
         "January"
        ],
        [
         "41",
         "January"
        ],
        [
         "42",
         "January"
        ],
        [
         "43",
         "January"
        ],
        [
         "44",
         "January"
        ],
        [
         "45",
         "January"
        ],
        [
         "46",
         "January"
        ],
        [
         "47",
         "January"
        ],
        [
         "48",
         "January"
        ],
        [
         "49",
         "January"
        ]
       ],
       "shape": {
        "columns": 1,
        "rows": 3862
       }
      },
      "text/plain": [
       "0       January\n",
       "1       January\n",
       "2       January\n",
       "3       January\n",
       "4       January\n",
       "         ...   \n",
       "3857       June\n",
       "3858       June\n",
       "3859       June\n",
       "3860       June\n",
       "3861       June\n",
       "Name: Datetime, Length: 3862, dtype: object"
      ]
     },
     "execution_count": 9,
     "metadata": {},
     "output_type": "execute_result"
    }
   ],
   "source": [
    "df['Datetime'].dt.month_name()\n"
   ]
  },
  {
   "cell_type": "code",
   "execution_count": 10,
   "id": "944ee5b4",
   "metadata": {},
   "outputs": [
    {
     "data": {
      "application/vnd.microsoft.datawrangler.viewer.v0+json": {
       "columns": [
        {
         "name": "index",
         "rawType": "int64",
         "type": "integer"
        },
        {
         "name": "Date",
         "rawType": "object",
         "type": "string"
        },
        {
         "name": "Time",
         "rawType": "object",
         "type": "string"
        },
        {
         "name": "Sender",
         "rawType": "object",
         "type": "string"
        },
        {
         "name": "Message",
         "rawType": "object",
         "type": "string"
        },
        {
         "name": "Datetime",
         "rawType": "datetime64[ns]",
         "type": "datetime"
        },
        {
         "name": "year",
         "rawType": "int32",
         "type": "integer"
        },
        {
         "name": "Months_name",
         "rawType": "object",
         "type": "string"
        },
        {
         "name": "day",
         "rawType": "int32",
         "type": "integer"
        },
        {
         "name": "hour",
         "rawType": "int32",
         "type": "integer"
        },
        {
         "name": "minute",
         "rawType": "int32",
         "type": "integer"
        }
       ],
       "ref": "ad7699fd-1a45-40f7-90db-96e26bc2feab",
       "rows": [
        [
         "0",
         "1/18/24",
         "5:36 PM",
         "Abishek Aachary",
         "Software 2,4 nd 5",
         "2024-01-18 17:36:00",
         "2024",
         "January",
         "18",
         "17",
         "36"
        ],
        [
         "1",
         "1/18/24",
         "7:25 PM",
         "Jai Prakash Sharma",
         "Linux me to 2,3,4 batayi thi na",
         "2024-01-18 19:25:00",
         "2024",
         "January",
         "18",
         "19",
         "25"
        ],
        [
         "2",
         "1/18/24",
         "7:28 PM",
         "Abishek Aachary",
         "Hn",
         "2024-01-18 19:28:00",
         "2024",
         "January",
         "18",
         "19",
         "28"
        ],
        [
         "3",
         "1/19/24",
         "1:31 PM",
         "❤️‍🔥 निखिल चौधरी 🫶 बताओ",
         "Anyone have practical file of (oops,DE, Linux and DSA) please send kar de 😊😊😊",
         "2024-01-19 13:31:00",
         "2024",
         "January",
         "19",
         "13",
         "31"
        ],
        [
         "4",
         "1/19/24",
         "1:33 PM",
         "Abishek Aachary",
         "Waiting for this message",
         "2024-01-19 13:33:00",
         "2024",
         "January",
         "19",
         "13",
         "33"
        ]
       ],
       "shape": {
        "columns": 10,
        "rows": 5
       }
      },
      "text/html": [
       "<div>\n",
       "<style scoped>\n",
       "    .dataframe tbody tr th:only-of-type {\n",
       "        vertical-align: middle;\n",
       "    }\n",
       "\n",
       "    .dataframe tbody tr th {\n",
       "        vertical-align: top;\n",
       "    }\n",
       "\n",
       "    .dataframe thead th {\n",
       "        text-align: right;\n",
       "    }\n",
       "</style>\n",
       "<table border=\"1\" class=\"dataframe\">\n",
       "  <thead>\n",
       "    <tr style=\"text-align: right;\">\n",
       "      <th></th>\n",
       "      <th>Date</th>\n",
       "      <th>Time</th>\n",
       "      <th>Sender</th>\n",
       "      <th>Message</th>\n",
       "      <th>Datetime</th>\n",
       "      <th>year</th>\n",
       "      <th>Months_name</th>\n",
       "      <th>day</th>\n",
       "      <th>hour</th>\n",
       "      <th>minute</th>\n",
       "    </tr>\n",
       "  </thead>\n",
       "  <tbody>\n",
       "    <tr>\n",
       "      <th>0</th>\n",
       "      <td>1/18/24</td>\n",
       "      <td>5:36 PM</td>\n",
       "      <td>Abishek Aachary</td>\n",
       "      <td>Software 2,4 nd 5</td>\n",
       "      <td>2024-01-18 17:36:00</td>\n",
       "      <td>2024</td>\n",
       "      <td>January</td>\n",
       "      <td>18</td>\n",
       "      <td>17</td>\n",
       "      <td>36</td>\n",
       "    </tr>\n",
       "    <tr>\n",
       "      <th>1</th>\n",
       "      <td>1/18/24</td>\n",
       "      <td>7:25 PM</td>\n",
       "      <td>Jai Prakash Sharma</td>\n",
       "      <td>Linux me to 2,3,4 batayi thi na</td>\n",
       "      <td>2024-01-18 19:25:00</td>\n",
       "      <td>2024</td>\n",
       "      <td>January</td>\n",
       "      <td>18</td>\n",
       "      <td>19</td>\n",
       "      <td>25</td>\n",
       "    </tr>\n",
       "    <tr>\n",
       "      <th>2</th>\n",
       "      <td>1/18/24</td>\n",
       "      <td>7:28 PM</td>\n",
       "      <td>Abishek Aachary</td>\n",
       "      <td>Hn</td>\n",
       "      <td>2024-01-18 19:28:00</td>\n",
       "      <td>2024</td>\n",
       "      <td>January</td>\n",
       "      <td>18</td>\n",
       "      <td>19</td>\n",
       "      <td>28</td>\n",
       "    </tr>\n",
       "    <tr>\n",
       "      <th>3</th>\n",
       "      <td>1/19/24</td>\n",
       "      <td>1:31 PM</td>\n",
       "      <td>❤️‍🔥 निखिल चौधरी 🫶 बताओ</td>\n",
       "      <td>Anyone have practical file of (oops,DE, Linux ...</td>\n",
       "      <td>2024-01-19 13:31:00</td>\n",
       "      <td>2024</td>\n",
       "      <td>January</td>\n",
       "      <td>19</td>\n",
       "      <td>13</td>\n",
       "      <td>31</td>\n",
       "    </tr>\n",
       "    <tr>\n",
       "      <th>4</th>\n",
       "      <td>1/19/24</td>\n",
       "      <td>1:33 PM</td>\n",
       "      <td>Abishek Aachary</td>\n",
       "      <td>Waiting for this message</td>\n",
       "      <td>2024-01-19 13:33:00</td>\n",
       "      <td>2024</td>\n",
       "      <td>January</td>\n",
       "      <td>19</td>\n",
       "      <td>13</td>\n",
       "      <td>33</td>\n",
       "    </tr>\n",
       "  </tbody>\n",
       "</table>\n",
       "</div>"
      ],
      "text/plain": [
       "      Date     Time                   Sender  \\\n",
       "0  1/18/24  5:36 PM          Abishek Aachary   \n",
       "1  1/18/24  7:25 PM       Jai Prakash Sharma   \n",
       "2  1/18/24  7:28 PM          Abishek Aachary   \n",
       "3  1/19/24  1:31 PM  ❤️‍🔥 निखिल चौधरी 🫶 बताओ   \n",
       "4  1/19/24  1:33 PM          Abishek Aachary   \n",
       "\n",
       "                                             Message            Datetime  \\\n",
       "0                                  Software 2,4 nd 5 2024-01-18 17:36:00   \n",
       "1                    Linux me to 2,3,4 batayi thi na 2024-01-18 19:25:00   \n",
       "2                                                 Hn 2024-01-18 19:28:00   \n",
       "3  Anyone have practical file of (oops,DE, Linux ... 2024-01-19 13:31:00   \n",
       "4                           Waiting for this message 2024-01-19 13:33:00   \n",
       "\n",
       "   year Months_name  day  hour  minute  \n",
       "0  2024     January   18    17      36  \n",
       "1  2024     January   18    19      25  \n",
       "2  2024     January   18    19      28  \n",
       "3  2024     January   19    13      31  \n",
       "4  2024     January   19    13      33  "
      ]
     },
     "execution_count": 10,
     "metadata": {},
     "output_type": "execute_result"
    }
   ],
   "source": [
    "df['Months_name']=df['Datetime'].dt.month_name()\n",
    "df['day']=df['Datetime'].dt.day\n",
    "df['hour']=df['Datetime'].dt.hour\n",
    "df['minute']=df['Datetime'].dt.minute\n",
    "df.head()"
   ]
  },
  {
   "cell_type": "code",
   "execution_count": 11,
   "id": "4f25a250",
   "metadata": {},
   "outputs": [
    {
     "data": {
      "application/vnd.microsoft.datawrangler.viewer.v0+json": {
       "columns": [
        {
         "name": "index",
         "rawType": "int64",
         "type": "integer"
        },
        {
         "name": "Date",
         "rawType": "object",
         "type": "string"
        },
        {
         "name": "Time",
         "rawType": "object",
         "type": "string"
        },
        {
         "name": "Sender",
         "rawType": "object",
         "type": "string"
        },
        {
         "name": "Message",
         "rawType": "object",
         "type": "string"
        },
        {
         "name": "Datetime",
         "rawType": "datetime64[ns]",
         "type": "datetime"
        },
        {
         "name": "year",
         "rawType": "int32",
         "type": "integer"
        },
        {
         "name": "Months_name",
         "rawType": "object",
         "type": "string"
        },
        {
         "name": "day",
         "rawType": "int32",
         "type": "integer"
        },
        {
         "name": "hour",
         "rawType": "int32",
         "type": "integer"
        },
        {
         "name": "minute",
         "rawType": "int32",
         "type": "integer"
        }
       ],
       "ref": "a7562314-48eb-49fb-a683-e76cec0aa288",
       "rows": [
        [
         "0",
         "1/18/24",
         "5:36 PM",
         "Abishek Aachary",
         "Software 2,4 nd 5",
         "2024-01-18 17:36:00",
         "2024",
         "January",
         "18",
         "17",
         "36"
        ],
        [
         "2",
         "1/18/24",
         "7:28 PM",
         "Abishek Aachary",
         "Hn",
         "2024-01-18 19:28:00",
         "2024",
         "January",
         "18",
         "19",
         "28"
        ],
        [
         "4",
         "1/19/24",
         "1:33 PM",
         "Abishek Aachary",
         "Waiting for this message",
         "2024-01-19 13:33:00",
         "2024",
         "January",
         "19",
         "13",
         "33"
        ],
        [
         "7",
         "1/19/24",
         "1:39 PM",
         "Abishek Aachary",
         "Waiting for this message",
         "2024-01-19 13:39:00",
         "2024",
         "January",
         "19",
         "13",
         "39"
        ],
        [
         "8",
         "1/19/24",
         "2:10 PM",
         "Abishek Aachary",
         "Waiting for this message",
         "2024-01-19 14:10:00",
         "2024",
         "January",
         "19",
         "14",
         "10"
        ],
        [
         "9",
         "1/19/24",
         "2:10 PM",
         "Abishek Aachary",
         "Waiting for this message",
         "2024-01-19 14:10:00",
         "2024",
         "January",
         "19",
         "14",
         "10"
        ],
        [
         "13",
         "1/19/24",
         "2:11 PM",
         "Abishek Aachary",
         "Waiting for this message",
         "2024-01-19 14:11:00",
         "2024",
         "January",
         "19",
         "14",
         "11"
        ],
        [
         "16",
         "1/19/24",
         "6:42 PM",
         "Abishek Aachary",
         "Waiting for this message",
         "2024-01-19 18:42:00",
         "2024",
         "January",
         "19",
         "18",
         "42"
        ],
        [
         "18",
         "1/19/24",
         "6:43 PM",
         "Abishek Aachary",
         "Waiting for this message",
         "2024-01-19 18:43:00",
         "2024",
         "January",
         "19",
         "18",
         "43"
        ],
        [
         "23",
         "1/19/24",
         "11:07 PM",
         "Abishek Aachary",
         "Waiting for this message",
         "2024-01-19 23:07:00",
         "2024",
         "January",
         "19",
         "23",
         "7"
        ],
        [
         "25",
         "1/19/24",
         "11:20 PM",
         "Abishek Aachary",
         "Waiting for this message",
         "2024-01-19 23:20:00",
         "2024",
         "January",
         "19",
         "23",
         "20"
        ],
        [
         "35",
         "1/19/24",
         "11:59 PM",
         "Abishek Aachary",
         "Waiting for this message",
         "2024-01-19 23:59:00",
         "2024",
         "January",
         "19",
         "23",
         "59"
        ],
        [
         "44",
         "1/21/24",
         "10:41 PM",
         "Abishek Aachary",
         "Waiting for this message",
         "2024-01-21 22:41:00",
         "2024",
         "January",
         "21",
         "22",
         "41"
        ],
        [
         "45",
         "1/22/24",
         "11:08 AM",
         "Abishek Aachary",
         "DSA mein sirf class Wale codes krne h",
         "2024-01-22 11:08:00",
         "2024",
         "January",
         "22",
         "11",
         "8"
        ],
        [
         "48",
         "1/22/24",
         "11:51 AM",
         "Abishek Aachary",
         "Hmm",
         "2024-01-22 11:51:00",
         "2024",
         "January",
         "22",
         "11",
         "51"
        ],
        [
         "59",
         "1/23/24",
         "10:49 PM",
         "Abishek Aachary",
         "kisi ke pass Linux ke outputs h kya..??",
         "2024-01-23 22:49:00",
         "2024",
         "January",
         "23",
         "22",
         "49"
        ],
        [
         "65",
         "1/23/24",
         "10:49 PM",
         "Abishek Aachary",
         "@919461042383 bhj do sir",
         "2024-01-23 22:49:00",
         "2024",
         "January",
         "23",
         "22",
         "49"
        ],
        [
         "66",
         "1/23/24",
         "10:50 PM",
         "Abishek Aachary",
         "codes h output chahiye",
         "2024-01-23 22:50:00",
         "2024",
         "January",
         "23",
         "22",
         "50"
        ],
        [
         "67",
         "1/23/24",
         "10:52 PM",
         "Abishek Aachary",
         "link nhi khul raha h",
         "2024-01-23 22:52:00",
         "2024",
         "January",
         "23",
         "22",
         "52"
        ],
        [
         "72",
         "1/23/24",
         "10:53 PM",
         "Abishek Aachary",
         "hmm",
         "2024-01-23 22:53:00",
         "2024",
         "January",
         "23",
         "22",
         "53"
        ],
        [
         "77",
         "1/23/24",
         "11:37 PM",
         "Abishek Aachary",
         "sir wale h kya output..??",
         "2024-01-23 23:37:00",
         "2024",
         "January",
         "23",
         "23",
         "37"
        ],
        [
         "82",
         "1/24/24",
         "1:13 AM",
         "Abishek Aachary",
         "sir ke notes mein h",
         "2024-01-24 01:13:00",
         "2024",
         "January",
         "24",
         "1",
         "13"
        ],
        [
         "95",
         "1/24/24",
         "1:33 PM",
         "Abishek Aachary",
         "Hn",
         "2024-01-24 13:33:00",
         "2024",
         "January",
         "24",
         "13",
         "33"
        ],
        [
         "97",
         "1/24/24",
         "1:35 PM",
         "Abishek Aachary",
         "Printed",
         "2024-01-24 13:35:00",
         "2024",
         "January",
         "24",
         "13",
         "35"
        ],
        [
         "99",
         "1/24/24",
         "1:41 PM",
         "Abishek Aachary",
         "Puchta hoon",
         "2024-01-24 13:41:00",
         "2024",
         "January",
         "24",
         "13",
         "41"
        ],
        [
         "100",
         "1/24/24",
         "1:41 PM",
         "Abishek Aachary",
         "Ruk",
         "2024-01-24 13:41:00",
         "2024",
         "January",
         "24",
         "13",
         "41"
        ],
        [
         "101",
         "1/24/24",
         "1:41 PM",
         "Abishek Aachary",
         "Hn print keva ke leke aana h",
         "2024-01-24 13:41:00",
         "2024",
         "January",
         "24",
         "13",
         "41"
        ],
        [
         "103",
         "1/24/24",
         "8:08 PM",
         "Abishek Aachary",
         "Ppt or cv dono ka print krvana h",
         "2024-01-24 20:08:00",
         "2024",
         "January",
         "24",
         "20",
         "8"
        ],
        [
         "115",
         "1/25/24",
         "10:31 AM",
         "Abishek Aachary",
         "Start ho gaya h",
         "2024-01-25 10:31:00",
         "2024",
         "January",
         "25",
         "10",
         "31"
        ],
        [
         "118",
         "1/25/24",
         "10:48 AM",
         "Abishek Aachary",
         "Linux ke pass wali lab mein",
         "2024-01-25 10:48:00",
         "2024",
         "January",
         "25",
         "10",
         "48"
        ],
        [
         "158",
         "2/6/24",
         "11:30 AM",
         "Abishek Aachary",
         "Civil department",
         "2024-02-06 11:30:00",
         "2024",
         "February",
         "6",
         "11",
         "30"
        ],
        [
         "159",
         "2/6/24",
         "11:30 AM",
         "Abishek Aachary",
         "11:30",
         "2024-02-06 11:30:00",
         "2024",
         "February",
         "6",
         "11",
         "30"
        ],
        [
         "160",
         "2/6/24",
         "11:30 AM",
         "Abishek Aachary",
         "DSA class",
         "2024-02-06 11:30:00",
         "2024",
         "February",
         "6",
         "11",
         "30"
        ],
        [
         "161",
         "2/6/24",
         "11:38 AM",
         "Abishek Aachary",
         "Mam aa gayich",
         "2024-02-06 11:38:00",
         "2024",
         "February",
         "6",
         "11",
         "38"
        ],
        [
         "162",
         "2/7/24",
         "8:34 AM",
         "Abishek Aachary",
         "Today there is no DSA class",
         "2024-02-07 08:34:00",
         "2024",
         "February",
         "7",
         "8",
         "34"
        ],
        [
         "166",
         "2/8/24",
         "10:52 AM",
         "Abishek Aachary",
         "Next class will be on Monday",
         "2024-02-08 10:52:00",
         "2024",
         "February",
         "8",
         "10",
         "52"
        ],
        [
         "174",
         "2/11/24",
         "3:52 PM",
         "Abishek Aachary",
         "https://internshala.com/career-starter-internship-feb2024?utm_source=eap_copylink&utm_medium=26746784",
         "2024-02-11 15:52:00",
         "2024",
         "February",
         "11",
         "15",
         "52"
        ],
        [
         "176",
         "2/11/24",
         "8:42 PM",
         "Abishek Aachary",
         "Kl DSA ki class h",
         "2024-02-11 20:42:00",
         "2024",
         "February",
         "11",
         "20",
         "42"
        ],
        [
         "178",
         "2/13/24",
         "8:35 AM",
         "Abishek Aachary",
         "Ajj DSA ki class nhi h",
         "2024-02-13 08:35:00",
         "2024",
         "February",
         "13",
         "8",
         "35"
        ],
        [
         "181",
         "2/13/24",
         "10:44 AM",
         "Abishek Aachary",
         "kya hua bol..??",
         "2024-02-13 10:44:00",
         "2024",
         "February",
         "13",
         "10",
         "44"
        ],
        [
         "182",
         "2/14/24",
         "8:54 AM",
         "Abishek Aachary",
         "Next class of DSA will be held o 16.2.24",
         "2024-02-14 08:54:00",
         "2024",
         "February",
         "14",
         "8",
         "54"
        ],
        [
         "184",
         "2/14/24",
         "9:29 AM",
         "Abishek Aachary",
         "abhi tk teachers nhi aaye h",
         "2024-02-14 09:29:00",
         "2024",
         "February",
         "14",
         "9",
         "29"
        ],
        [
         "186",
         "2/14/24",
         "10:37 AM",
         "Abishek Aachary",
         "abhi tk teachers nhi aaye  h saare",
         "2024-02-14 10:37:00",
         "2024",
         "February",
         "14",
         "10",
         "37"
        ],
        [
         "187",
         "2/14/24",
         "10:37 AM",
         "Abishek Aachary",
         "hn hn",
         "2024-02-14 10:37:00",
         "2024",
         "February",
         "14",
         "10",
         "37"
        ],
        [
         "193",
         "2/14/24",
         "12:50 PM",
         "Abishek Aachary",
         "Regular class Monday as abhi aa jaye class ke liye and kl 11 baje maths ki class hogi of 3rd sem",
         "2024-02-14 12:50:00",
         "2024",
         "February",
         "14",
         "12",
         "50"
        ],
        [
         "194",
         "2/14/24",
         "6:42 PM",
         "Abishek Aachary",
         "https://internshala.com/career-starter-internship-feb2024?utm_source=eap_copylink&utm_medium=26746784",
         "2024-02-14 18:42:00",
         "2024",
         "February",
         "14",
         "18",
         "42"
        ],
        [
         "196",
         "2/17/24",
         "9:56 AM",
         "Abishek Aachary",
         "https://internshala.com/quick-pocket-money-internships-feb24?utm_source=eap_copylink&utm_medium=26767789",
         "2024-02-17 09:56:00",
         "2024",
         "February",
         "17",
         "9",
         "56"
        ],
        [
         "197",
         "2/17/24",
         "10:51 AM",
         "Abishek Aachary",
         "maths ki class h",
         "2024-02-17 10:51:00",
         "2024",
         "February",
         "17",
         "10",
         "51"
        ],
        [
         "200",
         "2/17/24",
         "10:54 AM",
         "Abishek Aachary",
         "bhai tu library mein hi betha h ... <This message was edited>",
         "2024-02-17 10:54:00",
         "2024",
         "February",
         "17",
         "10",
         "54"
        ],
        [
         "202",
         "2/17/24",
         "10:55 AM",
         "Abishek Aachary",
         "hn bhai ...",
         "2024-02-17 10:55:00",
         "2024",
         "February",
         "17",
         "10",
         "55"
        ]
       ],
       "shape": {
        "columns": 10,
        "rows": 1168
       }
      },
      "text/html": [
       "<div>\n",
       "<style scoped>\n",
       "    .dataframe tbody tr th:only-of-type {\n",
       "        vertical-align: middle;\n",
       "    }\n",
       "\n",
       "    .dataframe tbody tr th {\n",
       "        vertical-align: top;\n",
       "    }\n",
       "\n",
       "    .dataframe thead th {\n",
       "        text-align: right;\n",
       "    }\n",
       "</style>\n",
       "<table border=\"1\" class=\"dataframe\">\n",
       "  <thead>\n",
       "    <tr style=\"text-align: right;\">\n",
       "      <th></th>\n",
       "      <th>Date</th>\n",
       "      <th>Time</th>\n",
       "      <th>Sender</th>\n",
       "      <th>Message</th>\n",
       "      <th>Datetime</th>\n",
       "      <th>year</th>\n",
       "      <th>Months_name</th>\n",
       "      <th>day</th>\n",
       "      <th>hour</th>\n",
       "      <th>minute</th>\n",
       "    </tr>\n",
       "  </thead>\n",
       "  <tbody>\n",
       "    <tr>\n",
       "      <th>0</th>\n",
       "      <td>1/18/24</td>\n",
       "      <td>5:36 PM</td>\n",
       "      <td>Abishek Aachary</td>\n",
       "      <td>Software 2,4 nd 5</td>\n",
       "      <td>2024-01-18 17:36:00</td>\n",
       "      <td>2024</td>\n",
       "      <td>January</td>\n",
       "      <td>18</td>\n",
       "      <td>17</td>\n",
       "      <td>36</td>\n",
       "    </tr>\n",
       "    <tr>\n",
       "      <th>2</th>\n",
       "      <td>1/18/24</td>\n",
       "      <td>7:28 PM</td>\n",
       "      <td>Abishek Aachary</td>\n",
       "      <td>Hn</td>\n",
       "      <td>2024-01-18 19:28:00</td>\n",
       "      <td>2024</td>\n",
       "      <td>January</td>\n",
       "      <td>18</td>\n",
       "      <td>19</td>\n",
       "      <td>28</td>\n",
       "    </tr>\n",
       "    <tr>\n",
       "      <th>4</th>\n",
       "      <td>1/19/24</td>\n",
       "      <td>1:33 PM</td>\n",
       "      <td>Abishek Aachary</td>\n",
       "      <td>Waiting for this message</td>\n",
       "      <td>2024-01-19 13:33:00</td>\n",
       "      <td>2024</td>\n",
       "      <td>January</td>\n",
       "      <td>19</td>\n",
       "      <td>13</td>\n",
       "      <td>33</td>\n",
       "    </tr>\n",
       "    <tr>\n",
       "      <th>7</th>\n",
       "      <td>1/19/24</td>\n",
       "      <td>1:39 PM</td>\n",
       "      <td>Abishek Aachary</td>\n",
       "      <td>Waiting for this message</td>\n",
       "      <td>2024-01-19 13:39:00</td>\n",
       "      <td>2024</td>\n",
       "      <td>January</td>\n",
       "      <td>19</td>\n",
       "      <td>13</td>\n",
       "      <td>39</td>\n",
       "    </tr>\n",
       "    <tr>\n",
       "      <th>8</th>\n",
       "      <td>1/19/24</td>\n",
       "      <td>2:10 PM</td>\n",
       "      <td>Abishek Aachary</td>\n",
       "      <td>Waiting for this message</td>\n",
       "      <td>2024-01-19 14:10:00</td>\n",
       "      <td>2024</td>\n",
       "      <td>January</td>\n",
       "      <td>19</td>\n",
       "      <td>14</td>\n",
       "      <td>10</td>\n",
       "    </tr>\n",
       "    <tr>\n",
       "      <th>...</th>\n",
       "      <td>...</td>\n",
       "      <td>...</td>\n",
       "      <td>...</td>\n",
       "      <td>...</td>\n",
       "      <td>...</td>\n",
       "      <td>...</td>\n",
       "      <td>...</td>\n",
       "      <td>...</td>\n",
       "      <td>...</td>\n",
       "      <td>...</td>\n",
       "    </tr>\n",
       "    <tr>\n",
       "      <th>3856</th>\n",
       "      <td>6/9/25</td>\n",
       "      <td>8:15 PM</td>\n",
       "      <td>Abishek Aachary</td>\n",
       "      <td>Jis company ko Krna ho kro &lt;This message was e...</td>\n",
       "      <td>2025-06-09 20:15:00</td>\n",
       "      <td>2025</td>\n",
       "      <td>June</td>\n",
       "      <td>9</td>\n",
       "      <td>20</td>\n",
       "      <td>15</td>\n",
       "    </tr>\n",
       "    <tr>\n",
       "      <th>3858</th>\n",
       "      <td>6/18/25</td>\n",
       "      <td>12:49 PM</td>\n",
       "      <td>Abishek Aachary</td>\n",
       "      <td>POLL:</td>\n",
       "      <td>2025-06-18 12:49:00</td>\n",
       "      <td>2025</td>\n",
       "      <td>June</td>\n",
       "      <td>18</td>\n",
       "      <td>12</td>\n",
       "      <td>49</td>\n",
       "    </tr>\n",
       "    <tr>\n",
       "      <th>3859</th>\n",
       "      <td>6/18/25</td>\n",
       "      <td>12:49 PM</td>\n",
       "      <td>Abishek Aachary</td>\n",
       "      <td>POLL:</td>\n",
       "      <td>2025-06-18 12:49:00</td>\n",
       "      <td>2025</td>\n",
       "      <td>June</td>\n",
       "      <td>18</td>\n",
       "      <td>12</td>\n",
       "      <td>49</td>\n",
       "    </tr>\n",
       "    <tr>\n",
       "      <th>3860</th>\n",
       "      <td>6/18/25</td>\n",
       "      <td>1:12 PM</td>\n",
       "      <td>Abishek Aachary</td>\n",
       "      <td>Basics hi chahiye</td>\n",
       "      <td>2025-06-18 13:12:00</td>\n",
       "      <td>2025</td>\n",
       "      <td>June</td>\n",
       "      <td>18</td>\n",
       "      <td>13</td>\n",
       "      <td>12</td>\n",
       "    </tr>\n",
       "    <tr>\n",
       "      <th>3861</th>\n",
       "      <td>6/18/25</td>\n",
       "      <td>2:37 PM</td>\n",
       "      <td>Abishek Aachary</td>\n",
       "      <td>POLL:</td>\n",
       "      <td>2025-06-18 14:37:00</td>\n",
       "      <td>2025</td>\n",
       "      <td>June</td>\n",
       "      <td>18</td>\n",
       "      <td>14</td>\n",
       "      <td>37</td>\n",
       "    </tr>\n",
       "  </tbody>\n",
       "</table>\n",
       "<p>1168 rows × 10 columns</p>\n",
       "</div>"
      ],
      "text/plain": [
       "         Date      Time           Sender  \\\n",
       "0     1/18/24   5:36 PM  Abishek Aachary   \n",
       "2     1/18/24   7:28 PM  Abishek Aachary   \n",
       "4     1/19/24   1:33 PM  Abishek Aachary   \n",
       "7     1/19/24   1:39 PM  Abishek Aachary   \n",
       "8     1/19/24   2:10 PM  Abishek Aachary   \n",
       "...       ...       ...              ...   \n",
       "3856   6/9/25   8:15 PM  Abishek Aachary   \n",
       "3858  6/18/25  12:49 PM  Abishek Aachary   \n",
       "3859  6/18/25  12:49 PM  Abishek Aachary   \n",
       "3860  6/18/25   1:12 PM  Abishek Aachary   \n",
       "3861  6/18/25   2:37 PM  Abishek Aachary   \n",
       "\n",
       "                                                Message            Datetime  \\\n",
       "0                                     Software 2,4 nd 5 2024-01-18 17:36:00   \n",
       "2                                                    Hn 2024-01-18 19:28:00   \n",
       "4                              Waiting for this message 2024-01-19 13:33:00   \n",
       "7                              Waiting for this message 2024-01-19 13:39:00   \n",
       "8                              Waiting for this message 2024-01-19 14:10:00   \n",
       "...                                                 ...                 ...   \n",
       "3856  Jis company ko Krna ho kro <This message was e... 2025-06-09 20:15:00   \n",
       "3858                                              POLL: 2025-06-18 12:49:00   \n",
       "3859                                              POLL: 2025-06-18 12:49:00   \n",
       "3860                                  Basics hi chahiye 2025-06-18 13:12:00   \n",
       "3861                                              POLL: 2025-06-18 14:37:00   \n",
       "\n",
       "      year Months_name  day  hour  minute  \n",
       "0     2024     January   18    17      36  \n",
       "2     2024     January   18    19      28  \n",
       "4     2024     January   19    13      33  \n",
       "7     2024     January   19    13      39  \n",
       "8     2024     January   19    14      10  \n",
       "...    ...         ...  ...   ...     ...  \n",
       "3856  2025        June    9    20      15  \n",
       "3858  2025        June   18    12      49  \n",
       "3859  2025        June   18    12      49  \n",
       "3860  2025        June   18    13      12  \n",
       "3861  2025        June   18    14      37  \n",
       "\n",
       "[1168 rows x 10 columns]"
      ]
     },
     "execution_count": 11,
     "metadata": {},
     "output_type": "execute_result"
    }
   ],
   "source": [
    "df[df['Sender'] == 'Abishek Aachary']"
   ]
  },
  {
   "cell_type": "code",
   "execution_count": 12,
   "id": "15ad022b",
   "metadata": {},
   "outputs": [
    {
     "data": {
      "text/plain": [
       "19256"
      ]
     },
     "execution_count": 12,
     "metadata": {},
     "output_type": "execute_result"
    }
   ],
   "source": [
    "word=[]\n",
    "\n",
    "for message in df['Message']:\n",
    "    # print(i)\n",
    "    # print(i.split())\n",
    "    word.extend(message.split())\n",
    "\n",
    "len(word)"
   ]
  }
 ],
 "metadata": {
  "kernelspec": {
   "display_name": ".machine",
   "language": "python",
   "name": "python3"
  },
  "language_info": {
   "codemirror_mode": {
    "name": "ipython",
    "version": 3
   },
   "file_extension": ".py",
   "mimetype": "text/x-python",
   "name": "python",
   "nbconvert_exporter": "python",
   "pygments_lexer": "ipython3",
   "version": "3.10.11"
  }
 },
 "nbformat": 4,
 "nbformat_minor": 5
}
